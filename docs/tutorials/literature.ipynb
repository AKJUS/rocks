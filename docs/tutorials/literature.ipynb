{
 "cells": [
  {
   "cell_type": "markdown",
   "id": "b524abf1",
   "metadata": {},
   "source": [
    "# Citing and reporting literature values\n",
    "\n",
    "Table of Contents\n",
    "* [Citing many data sources](#citing)\n",
    "* [Create table of asteroid parameters using rocks](#create-table)\n",
    "\n",
    "This notebook shows how `rocks` simplifies the discovery and proper attribution of literature parameter values.\n",
    "As always:"
   ]
  },
  {
   "cell_type": "code",
   "execution_count": 1,
   "id": "aa36cbe7",
   "metadata": {},
   "outputs": [],
   "source": [
    "import rocks"
   ]
  },
  {
   "cell_type": "markdown",
   "id": "b9da5915",
   "metadata": {},
   "source": [
    "## Citing data sources <a class=\"anchor\" id=\"citing\"></a>\n",
    "\n",
    "Let's assume we plotted a histogram of the diameters the first 1000 numbered asteroids here. We want to cite the data sources in the appendix."
   ]
  },
  {
   "cell_type": "code",
   "execution_count": 2,
   "id": "eb98e930",
   "metadata": {},
   "outputs": [
    {
     "data": {
      "text/html": [
       "<pre style=\"white-space:pre;overflow-x:auto;line-height:normal;font-family:Menlo,'DejaVu Sans Mono',consolas,'Courier New',monospace\">\n",
       "</pre>\n"
      ],
      "text/plain": [
       "\n"
      ]
     },
     "metadata": {},
     "output_type": "display_data"
    }
   ],
   "source": [
    "targets = range(1, 1000)\n",
    "targets = rocks.rocks(targets) # get the ssocards of the first 1,000 asteroids"
   ]
  },
  {
   "cell_type": "markdown",
   "id": "15954b06",
   "metadata": {},
   "source": [
    "All we have to do is iterate over the targets and, if they have a diameter entry in their ssoCard, note the bibcodes of the given values. There may be multiple bibcodes per asteroid in the case where the best-estimate diameter is a mean value. This is why the objects returned by the `bibref` attribute are always lists."
   ]
  },
  {
   "cell_type": "code",
   "execution_count": 3,
   "id": "f3742d76",
   "metadata": {},
   "outputs": [],
   "source": [
    "bibcodes = [] # to store the results\n",
    "\n",
    "for target in targets:\n",
    "    \n",
    "    if not target.diameter:  # if no diameter is available\n",
    "        continue             # we don't care about this one\n",
    "        \n",
    "    bibcodes += target.diameter.bibref.bibcode  # `bibref.bibcode` is a list. += adds two lists in python"
   ]
  },
  {
   "cell_type": "markdown",
   "id": "3a74bc34",
   "metadata": {},
   "source": [
    "And that's already it. We can look at who contributed the most diameters using the collection module."
   ]
  },
  {
   "cell_type": "code",
   "execution_count": 4,
   "id": "facb4303",
   "metadata": {},
   "outputs": [
    {
     "name": "stdout",
     "output_type": "stream",
     "text": [
      "This study uses data from the following works: \\citep{2020A&A...638A..84A,2011ApJ...741...68M,2018Icar..309..134P,2008Icar..195..220S,2011Sci...334..487S,2023ApJ...944..202J,1999Icar..140...17T,2017A&A...604A..64M,2010Icar..205..460C,2019A&A...624A.121H,2016A&A...591A..14A,2020AJ....159..264J,2017MNRAS.471..941B,2023A&A...670A..52M,2017AJ....154..168M,2021A&A...654A..56V,2020A&A...638L..15F,2014ApJ...783L..37M,2020NatAs...4..136V,2010Icar..207..285O,2015ApJ...814..117N,2018Icar..309..297H,2015MNRAS.448.3382T,2020MNRAS.499.4545D,2014MNRAS.443.1802B,2007Icar..186..126M,2022A&A...662A..71F,2015MPBu...42..129T,2018A&A...618A.154V,2017A&A...603A..55A,2021A&A...653A..57M,2020A&A...633A..65H,2020A&A...641A..80Y,2017A&A...599A..36H,2012Icar..221.1130M,2013Icar..226.1045H,2018A&A...619L...3V,2014ApJ...791..121M,2018A&A...612A..85A,2022PSJ.....3...30M,2020NatAs...4..569M,2021A&A...650A.129C,2017A&A...601A.114H,2019pdss.data....3H,2012ApJ...759L...8M,2017Icar..281..388S,2009P&SS...57..259D,2014Icar..239..118B,2013Icar..224..178M,1996Icar..120...20T,2000Sci...289.2088V,1994Icar..107...23T,2013A&A...554A..71A,2011ApJ...743..156M,2019A&A...623A.132C,2012Icar..221..365P,2012Sci...336..684R,2011Icar..214..652D,2016AJ....152...63N,2010AJ....140..933R,2021AJ....162...40J,2015Icar..256..101H,2021PSJ.....2..162M,2015A&A...581L...3V,2022PSJ.....3...56H,2011Icar..215..547S,2011PASJ...63.1117U,2018MNRAS.473.5050B,2018Icar..311..197S,2006Icar..185...39M,2000Icar..145..348T,2016Sci...353.1008R,2015A&A...578A..42R,2017A&A...607A.117V,2021PSJ.....2..125S,2020PSJ.....1....5M}\n"
     ]
    }
   ],
   "source": [
    "# we use a 'set' to remove duplicate entries\n",
    "bibcodes_for_latex = ','.join(set(bibcodes))\n",
    "\n",
    "# triple {{{}}} because python f-strings require this\n",
    "print(f'This study uses data from the following works: \\citep{{{bibcodes_for_latex}}}')"
   ]
  },
  {
   "cell_type": "markdown",
   "id": "f046adca",
   "metadata": {},
   "source": [
    "If your bibliography file uses the bibcodes as article identifiers, you can write the result straight to file in TeX format and add it your article. If you decide to add/remove asteroids from the analysis, just rerun the script to update your bibliography.\n",
    "\n",
    "We can further use the `collections` module to sort the references by number of contributions."
   ]
  },
  {
   "cell_type": "code",
   "execution_count": 5,
   "id": "3cf2861a",
   "metadata": {},
   "outputs": [
    {
     "name": "stdout",
     "output_type": "stream",
     "text": [
      "2022PSJ.....3...56H contributed to the diameters of 403 asteroids\n",
      "2019pdss.data....3H contributed to the diameters of 247 asteroids\n",
      "2018A&A...612A..85A contributed to the diameters of 220 asteroids\n",
      "2011PASJ...63.1117U contributed to the diameters of 220 asteroids\n",
      "2012ApJ...759L...8M contributed to the diameters of 170 asteroids\n",
      "2011ApJ...741...68M contributed to the diameters of 154 asteroids\n",
      "2010AJ....140..933R contributed to the diameters of 146 asteroids\n",
      "2014ApJ...791..121M contributed to the diameters of 133 asteroids\n",
      "2016AJ....152...63N contributed to the diameters of 113 asteroids\n",
      "2015ApJ...814..117N contributed to the diameters of 101 asteroids\n",
      "2021PSJ.....2..162M contributed to the diameters of 71 asteroids\n",
      "2018Icar..309..297H contributed to the diameters of 66 asteroids\n",
      "2022PSJ.....3...30M contributed to the diameters of 60 asteroids\n",
      "2020PSJ.....1....5M contributed to the diameters of 60 asteroids\n",
      "2017AJ....154..168M contributed to the diameters of 43 asteroids\n",
      "2017A&A...601A.114H contributed to the diameters of 41 asteroids\n",
      "2021A&A...654A..56V contributed to the diameters of 39 asteroids\n",
      "2017A&A...607A.117V contributed to the diameters of 19 asteroids\n",
      "2011Icar..214..652D contributed to the diameters of 16 asteroids\n",
      "2006Icar..185...39M contributed to the diameters of 16 asteroids\n",
      "2012Icar..221..365P contributed to the diameters of 15 asteroids\n",
      "2013Icar..226.1045H contributed to the diameters of 10 asteroids\n",
      "2009P&SS...57..259D contributed to the diameters of 8 asteroids\n",
      "2021AJ....162...40J contributed to the diameters of 8 asteroids\n",
      "2013A&A...554A..71A contributed to the diameters of 6 asteroids\n",
      "2016A&A...591A..14A contributed to the diameters of 6 asteroids\n",
      "2007Icar..186..126M contributed to the diameters of 4 asteroids\n",
      "2020A&A...638A..84A contributed to the diameters of 2 asteroids\n",
      "2017A&A...603A..55A contributed to the diameters of 2 asteroids\n",
      "2015Icar..256..101H contributed to the diameters of 2 asteroids\n",
      "2016Sci...353.1008R contributed to the diameters of 1 asteroids\n",
      "2010Icar..205..460C contributed to the diameters of 1 asteroids\n",
      "2020NatAs...4..569M contributed to the diameters of 1 asteroids\n",
      "2015A&A...581L...3V contributed to the diameters of 1 asteroids\n",
      "2012Sci...336..684R contributed to the diameters of 1 asteroids\n",
      "2017A&A...604A..64M contributed to the diameters of 1 asteroids\n",
      "2020MNRAS.499.4545D contributed to the diameters of 1 asteroids\n",
      "2010Icar..207..285O contributed to the diameters of 1 asteroids\n",
      "2019A&A...624A.121H contributed to the diameters of 1 asteroids\n",
      "2018MNRAS.473.5050B contributed to the diameters of 1 asteroids\n",
      "2020NatAs...4..136V contributed to the diameters of 1 asteroids\n",
      "2021PSJ.....2..125S contributed to the diameters of 1 asteroids\n",
      "2020A&A...638L..15F contributed to the diameters of 1 asteroids\n",
      "2017Icar..281..388S contributed to the diameters of 1 asteroids\n",
      "2018A&A...619L...3V contributed to the diameters of 1 asteroids\n",
      "2011Sci...334..487S contributed to the diameters of 1 asteroids\n",
      "2022A&A...662A..71F contributed to the diameters of 1 asteroids\n",
      "2020A&A...641A..80Y contributed to the diameters of 1 asteroids\n",
      "2019A&A...623A.132C contributed to the diameters of 1 asteroids\n",
      "2008Icar..195..220S contributed to the diameters of 1 asteroids\n",
      "2023A&A...670A..52M contributed to the diameters of 1 asteroids\n",
      "2011Icar..215..547S contributed to the diameters of 1 asteroids\n",
      "2015MPBu...42..129T contributed to the diameters of 1 asteroids\n",
      "2021A&A...650A.129C contributed to the diameters of 1 asteroids\n",
      "2014Icar..239..118B contributed to the diameters of 1 asteroids\n",
      "2018A&A...618A.154V contributed to the diameters of 1 asteroids\n",
      "2014MNRAS.443.1802B contributed to the diameters of 1 asteroids\n",
      "2013Icar..224..178M contributed to the diameters of 1 asteroids\n",
      "2018Icar..309..134P contributed to the diameters of 1 asteroids\n",
      "2017A&A...599A..36H contributed to the diameters of 1 asteroids\n",
      "2021A&A...653A..57M contributed to the diameters of 1 asteroids\n",
      "2018Icar..311..197S contributed to the diameters of 1 asteroids\n",
      "2015MNRAS.448.3382T contributed to the diameters of 1 asteroids\n",
      "1996Icar..120...20T contributed to the diameters of 1 asteroids\n",
      "1999Icar..140...17T contributed to the diameters of 1 asteroids\n",
      "2015A&A...578A..42R contributed to the diameters of 1 asteroids\n",
      "2023ApJ...944..202J contributed to the diameters of 1 asteroids\n",
      "2000Sci...289.2088V contributed to the diameters of 1 asteroids\n",
      "2000Icar..145..348T contributed to the diameters of 1 asteroids\n",
      "2020AJ....159..264J contributed to the diameters of 1 asteroids\n",
      "2014ApJ...783L..37M contributed to the diameters of 1 asteroids\n",
      "2020A&A...633A..65H contributed to the diameters of 1 asteroids\n",
      "2017MNRAS.471..941B contributed to the diameters of 1 asteroids\n",
      "2012Icar..221.1130M contributed to the diameters of 1 asteroids\n",
      "2011ApJ...743..156M contributed to the diameters of 1 asteroids\n",
      "1994Icar..107...23T contributed to the diameters of 1 asteroids\n"
     ]
    }
   ],
   "source": [
    "from collections import Counter\n",
    "\n",
    "count = Counter(bibcodes)  # count how often a given bibcode appears\n",
    "\n",
    "for bibcode, number in count.most_common():\n",
    "    print(f'{bibcode} contributed to the diameters of {number} asteroids')"
   ]
  },
  {
   "cell_type": "markdown",
   "id": "09826f08",
   "metadata": {},
   "source": [
    "## Create a parameter table for a publication  <a class=\"anchor\" id=\"create-table\"></a>\n",
    "\n",
    "A more advanced example. We create a TeX table comparing different parameters of Ryugu and Bennu.\n",
    "This example will create the table as a single python string, in real practice, you would write it to file and add the file to your manuscript.\n",
    "\n",
    "First, we define the targets of our study and the parameters we want to add to the table.\n",
    "If we later want to add another asteroid, we can just add its name to the `targets` list.\n",
    "The names of the parameters are the ones we would usually use in the dot-notation, e.g. `sso.number` -> `'number'`.\n",
    "Again, we can quickly add rows with other parameters to our table by defining it this way."
   ]
  },
  {
   "cell_type": "code",
   "execution_count": 37,
   "id": "adfbefba",
   "metadata": {},
   "outputs": [
    {
     "data": {
      "text/html": [
       "<pre style=\"white-space:pre;overflow-x:auto;line-height:normal;font-family:Menlo,'DejaVu Sans Mono',consolas,'Courier New',monospace\">\n",
       "</pre>\n"
      ],
      "text/plain": [
       "\n"
      ]
     },
     "metadata": {},
     "output_type": "display_data"
    }
   ],
   "source": [
    "asteroids = ['bennu', 'ryugu']\n",
    "ssos = rocks.rocks(asteroids)  # get the ssoCards and ingest the data\n",
    "\n",
    "# Add some orbital information\n",
    "parameters = [\n",
    "    'class_',   # the orbital class\n",
    "    'moid.emb', # minimum orbit intersection distance earth-moon-barycenter\n",
    "    'albedo',\n",
    "    'diameter',\n",
    "    'taxonomy.class_',\n",
    "    'thermal_inertia'\n",
    "]"
   ]
  },
  {
   "cell_type": "markdown",
   "id": "2223ab51",
   "metadata": {},
   "source": [
    "Now we need a function we returns the formatted TeX string for each row we want to add.\n",
    "It should accept the parameter name, a list of parameter values, and a list of bibcodes for the references column. It looks more complicated than it really is."
   ]
  },
  {
   "cell_type": "code",
   "execution_count": 38,
   "id": "daff1ba8",
   "metadata": {},
   "outputs": [],
   "source": [
    "def create_row(parameter, values, bibcodes):\n",
    "    \"\"\"Create TeX string for table row.\n",
    "    \n",
    "    parameter : str\n",
    "        The name of the parameter\n",
    "    values : list of str\n",
    "        The values to add for each asteroid to the row.\n",
    "    bibcodes : list of str\n",
    "        The references to cite.\n",
    "    \"\"\"\n",
    "    if bibcodes: # only try to cite if there are actually bibcodes to cite\n",
    "        cite = fr\"\\citet{{{','.join(bibcodes)}}}\"\n",
    "    else:\n",
    "        cite = ''\n",
    "        \n",
    "    return fr\"{parameter} & {' & '.join(values)} & {cite} \\\\\""
   ]
  },
  {
   "cell_type": "markdown",
   "id": "e3fa1b62",
   "metadata": {},
   "source": [
    "Let's see this in action. We add the header row of the table."
   ]
  },
  {
   "cell_type": "code",
   "execution_count": 39,
   "id": "d838d1b4",
   "metadata": {},
   "outputs": [
    {
     "name": "stdout",
     "output_type": "stream",
     "text": [
      " & (101955) Bennu & (162173) Ryugu &  \\\\\\topline\n"
     ]
    }
   ],
   "source": [
    "header = create_row(parameter='', values=[f'({sso.number}) {sso.name}' for sso in ssos], bibcodes=[])\n",
    "\n",
    "# The header needs a \\topline\n",
    "header = header + r'\\topline'\n",
    "print(header)"
   ]
  },
  {
   "cell_type": "markdown",
   "id": "a7bf66a5",
   "metadata": {},
   "source": [
    "Now we're ready to add the actual parameters. Because we want to loop over a list of parameters,\n",
    "we cannot use the usual dot-notation to get the actual parameter values. Instead, we use the `Rock.get_parameter`\n",
    "helper function which accepts a parameter name as string. We further make use of the units and labels which are defined for all parameters in SsODNet."
   ]
  },
  {
   "cell_type": "code",
   "execution_count": 48,
   "id": "775cbf68",
   "metadata": {},
   "outputs": [],
   "source": [
    "rows = []  # to store the resulting rows\n",
    "\n",
    "for parameter in parameters: # for each parameter we are interested in\n",
    "    \n",
    "    # values and bibcodes for this row\n",
    "    values = []\n",
    "    bibcodes = []\n",
    "    \n",
    "    for sso in ssos:         # for each asteroid\n",
    "        \n",
    "        # for the orbital class, we look up the value directly\n",
    "        if parameter == 'class_':\n",
    "            values.append(sso.class_)\n",
    "            label = 'Orbital Class'\n",
    "            continue\n",
    "        \n",
    "        # for the other parameters, we do a dynamic look-up\n",
    "        param = sso.get_parameter(parameter)\n",
    "        \n",
    "        value = str(param)  # rocks automatically formats the parameters for you\n",
    "        values.append(value)\n",
    "        \n",
    "        if hasattr(param, 'bibref'):  # if the parameter has a citation attached to it\n",
    "            bibcodes += param.bibref.bibcode # bibref.bibcodes are always a list\n",
    "        \n",
    "        # we use the SsODNet label of this parameter for the table\n",
    "        label = param.label\n",
    "        \n",
    "    row = create_row(parameter=label, values=values, bibcodes=bibcodes)\n",
    "    rows.append(row)"
   ]
  },
  {
   "cell_type": "markdown",
   "id": "75a4fb0a",
   "metadata": {},
   "source": [
    "We are ready to build the table."
   ]
  },
  {
   "cell_type": "code",
   "execution_count": 52,
   "id": "d7e0d167",
   "metadata": {},
   "outputs": [
    {
     "name": "stdout",
     "output_type": "stream",
     "text": [
      "\n",
      "\\begin{tabular}{cccc}\n",
      " & (101955) Bennu & (162173) Ryugu &  \n",
      "\\topline\n",
      "Orbital Class & NEA>Apollo & NEA>Apollo &  \n",
      "EMB MOID & 0.08382782 +- 0.00000000 au & 0.04965338 +- 0.00000000 au &  \n",
      "Albedo & 0.044 +- 0.002  & 0.045 +- 0.002  & \\citet{2019NatAs...3..341D,2019Sci...364..252S} \n",
      "Diameter & 0.488 +- 0.019 km & 0.896 +- 0.008 km & \\citet{2019NatGe..12..247B,2019Sci...364..268W} \n",
      "Class & B & C &  \n",
      "Thermal inertia & 401.29 +- 20.00 J.s^{-1/2}.K^{-1}.m^{-2} & 324.62 +- (65.85, -46.38) J.s^{-1/2}.K^{-1}.m^{-2} & \\citet{2019NatAs...3..341D,2020Icar..34813835S,2019NatAs...3..971G,2020Natur.579..518O,2019Sci...364..252S} \n",
      "\n",
      "\\end{tabular}\n",
      "\n"
     ]
    }
   ],
   "source": [
    "table = fr'''\n",
    "\\begin{{tabular}}{{c{'c' * len(ssos)}c}}\n",
    "{header}\n",
    "{''.join(rows)}\n",
    "\\end{{tabular}}\n",
    "'''\n",
    "print(table.replace(r'\\\\', '\\n'))"
   ]
  },
  {
   "cell_type": "markdown",
   "id": "35786e36",
   "metadata": {},
   "source": [
    "It doesn't look like much in the notebook, but the table has the parameter values we requested (including uncertainties and units) and a full bibliographic record as well. Further code could be added to format cells with missing values, but we leave the example like this for now.\n",
    "\n",
    "$$\n",
    "\\begin{tabular}{cccc}\n",
    " & (101955) Bennu & (162173) Ryugu &  \\\\\\topline\n",
    "Orbital Class & NEA>Apollo & NEA>Apollo &  \\\\\n",
    "EMB MOID & 0.08382782 +- 0.00000000 au & 0.04965338 +- 0.00000000 au &  \\\\\n",
    "Albedo & 0.044 +- 0.002  & 0.045 +- 0.002  & \\citet{2019NatAs...3..341D,2019Sci...364..252S} \\\\\n",
    "Diameter & 0.488 +- 0.019 km & 0.896 +- 0.008 km & \\citet{2019NatGe..12..247B,2019Sci...364..268W} \\\\\n",
    "Class & B & C &  \\\\Thermal inertia & 401.29 +- 20.00 J.s^{-1/2}.K^{-1}.m^{-2} & 324.62 +- (65.85, -46.38) J.s^{-1/2}.K^{-1}.m^{-2} & \\citet{2019NatAs...3..341D,2020Icar..34813835S,2019NatAs...3..971G,2020Natur.579..518O,2019Sci...364..252S} \\\\\n",
    "\\end{tabular}\n",
    "$$"
   ]
  },
  {
   "cell_type": "code",
   "execution_count": null,
   "id": "231d5c87",
   "metadata": {},
   "outputs": [],
   "source": []
  }
 ],
 "metadata": {
  "kernelspec": {
   "display_name": "Python 3 (ipykernel)",
   "language": "python",
   "name": "python3"
  },
  "language_info": {
   "codemirror_mode": {
    "name": "ipython",
    "version": 3
   },
   "file_extension": ".py",
   "mimetype": "text/x-python",
   "name": "python",
   "nbconvert_exporter": "python",
   "pygments_lexer": "ipython3",
   "version": "3.9.2"
  }
 },
 "nbformat": 4,
 "nbformat_minor": 5
}
