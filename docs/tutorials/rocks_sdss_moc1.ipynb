{
 "cells": [
  {
   "cell_type": "markdown",
   "metadata": {},
   "source": [
    "### Identify objects in SDSS Moving-Objects Catalogue DR1 with rocks."
   ]
  },
  {
   "cell_type": "code",
   "execution_count": 1,
   "metadata": {},
   "outputs": [],
   "source": [
    "import numpy as np\n",
    "import pandas as pd\n",
    "import rocks\n",
    "\n",
    "import nest_asyncio  # these two lines are required for asynchronous \n",
    "nest_asyncio.apply()  # operations in jupyter notebooks "
   ]
  },
  {
   "cell_type": "markdown",
   "metadata": {},
   "source": [
    "Download SDSS MOC1 (6.2MB) from [https://faculty.washington.edu/ivezic/sdssmoc/sdssmoc1.html](https://faculty.washington.edu/ivezic/sdssmoc/sdssmoc1.html)"
   ]
  },
  {
   "cell_type": "code",
   "execution_count": 2,
   "metadata": {},
   "outputs": [
    {
     "name": "stdout",
     "output_type": "stream",
     "text": [
      "Number of observations in SDSS MOC1: 58117\n",
      "Observations of known objects: 10585\n"
     ]
    }
   ],
   "source": [
    "data = pd.read_fwf(\n",
    "    \"https://faculty.washington.edu/ivezic/sdssmoc/ADR1.dat.gz\",\n",
    "    colspecs=[(244, 250), (250, 270)],\n",
    "    names=[\"numeration\", \"designation\"],\n",
    ")\n",
    "\n",
    "print(f\"Number of observations in SDSS MOC1: {len(data)}\")\n",
    "\n",
    "# Remove the unknown objects\n",
    "data = data[data.designation.str.strip(\" \") != \"-\"]\n",
    "print(f\"Observations of known objects: {len(set(data.designation))}\")\n",
    "\n",
    "# Unnumbered objects should be NaN\n",
    "data.loc[data.numeration == 0, \"numeration\"] = np.nan"
   ]
  },
  {
   "cell_type": "markdown",
   "metadata": {},
   "source": [
    "Get current designations and numbers for objects."
   ]
  },
  {
   "cell_type": "code",
   "execution_count": 3,
   "metadata": {},
   "outputs": [
    {
     "name": "stdout",
     "output_type": "stream",
     "text": [
      "Identifying known objects in catalogue..\n"
     ]
    }
   ],
   "source": [
    "# Create list of identifiers by merging 'numeration' and 'designation' columns\n",
    "ids = data.numeration.fillna(data.designation)\n",
    "print(\"Identifying known objects in catalogue..\")\n",
    "names_numbers = rocks.identify(ids)\n"
   ]
  },
  {
   "cell_type": "markdown",
   "metadata": {},
   "source": [
    "The names and numbers are returned in the order of the passed identifiers. We can add them to the SDSS data using a simple list comprehension."
   ]
  },
  {
   "cell_type": "code",
   "execution_count": 4,
   "metadata": {},
   "outputs": [
    {
     "data": {
      "text/html": [
       "<div>\n",
       "<style scoped>\n",
       "    .dataframe tbody tr th:only-of-type {\n",
       "        vertical-align: middle;\n",
       "    }\n",
       "\n",
       "    .dataframe tbody tr th {\n",
       "        vertical-align: top;\n",
       "    }\n",
       "\n",
       "    .dataframe thead th {\n",
       "        text-align: right;\n",
       "    }\n",
       "</style>\n",
       "<table border=\"1\" class=\"dataframe\">\n",
       "  <thead>\n",
       "    <tr style=\"text-align: right;\">\n",
       "      <th></th>\n",
       "      <th>numeration</th>\n",
       "      <th>designation</th>\n",
       "      <th>name</th>\n",
       "      <th>number</th>\n",
       "    </tr>\n",
       "  </thead>\n",
       "  <tbody>\n",
       "    <tr>\n",
       "      <th>1</th>\n",
       "      <td>NaN</td>\n",
       "      <td>1999_RL189</td>\n",
       "      <td>1999 RL189</td>\n",
       "      <td>159415</td>\n",
       "    </tr>\n",
       "    <tr>\n",
       "      <th>3</th>\n",
       "      <td>11659.0</td>\n",
       "      <td>1997_EX41</td>\n",
       "      <td>1997 EX41</td>\n",
       "      <td>11659</td>\n",
       "    </tr>\n",
       "    <tr>\n",
       "      <th>7</th>\n",
       "      <td>3633.0</td>\n",
       "      <td>Mira</td>\n",
       "      <td>Mira</td>\n",
       "      <td>3633</td>\n",
       "    </tr>\n",
       "    <tr>\n",
       "      <th>8</th>\n",
       "      <td>NaN</td>\n",
       "      <td>2765_P-L</td>\n",
       "      <td>2765 P-L</td>\n",
       "      <td>39383</td>\n",
       "    </tr>\n",
       "    <tr>\n",
       "      <th>9</th>\n",
       "      <td>NaN</td>\n",
       "      <td>2000_SR274</td>\n",
       "      <td>2000 SR274</td>\n",
       "      <td>62569</td>\n",
       "    </tr>\n",
       "  </tbody>\n",
       "</table>\n",
       "</div>"
      ],
      "text/plain": [
       "   numeration designation        name  number\n",
       "1         NaN  1999_RL189  1999 RL189  159415\n",
       "3     11659.0   1997_EX41   1997 EX41   11659\n",
       "7      3633.0        Mira        Mira    3633\n",
       "8         NaN    2765_P-L    2765 P-L   39383\n",
       "9         NaN  2000_SR274  2000 SR274   62569"
      ]
     },
     "execution_count": 4,
     "metadata": {},
     "output_type": "execute_result"
    }
   ],
   "source": [
    "# Add numbers and names to data\n",
    "data[\"name\"] = [name_number[0] for name_number in names_numbers]\n",
    "data[\"number\"] = [name_number[1] for name_number in names_numbers]\n",
    "\n",
    "# Print part of the result\n",
    "data.number = data.number.astype(\"Int64\")  # Int64 supports integers and NaN\n",
    "data.head()"
   ]
  }
 ],
 "metadata": {
  "kernelspec": {
   "display_name": "Python 3",
   "language": "python",
   "name": "python3"
  },
  "language_info": {
   "codemirror_mode": {
    "name": "ipython",
    "version": 3
   },
   "file_extension": ".py",
   "mimetype": "text/x-python",
   "name": "python",
   "nbconvert_exporter": "python",
   "pygments_lexer": "ipython3",
   "version": "3.8.5"
  }
 },
 "nbformat": 4,
 "nbformat_minor": 4
}
